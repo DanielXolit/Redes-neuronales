{
  "nbformat": 4,
  "nbformat_minor": 0,
  "metadata": {
    "colab": {
      "provenance": []
    },
    "kernelspec": {
      "name": "python3",
      "display_name": "Python 3"
    },
    "language_info": {
      "name": "python"
    },
    "accelerator": "GPU",
    "gpuClass": "standard"
  },
  "cells": [
    {
      "cell_type": "markdown",
      "source": [
        "# **Bootcamp Ciencia de Datos e Inteligencia Artificial**\n",
        "# **Módulo 5. Deep Learning**\n",
        "## **Semana 20. Redes neuronales recurrentes**\n",
        "\n",
        "Revisa el contenido con especial atención, haz tu copia y comienza a practicar. De esa manera surgirán dudas que podrás resolver con tu *coach* el día de tu clase. "
      ],
      "metadata": {
        "id": "4xBnZY9dWF4G"
      }
    },
    {
      "cell_type": "markdown",
      "source": [
        "# Redes neuronales recurrentes\n",
        "\n",
        "Hasta este momento has visto distintos tipos de redes neuronales. Como seguramente lo has comprendido, estas tratan de simular el funcionamiento del cerebro humano.\n",
        "\n",
        "Existe otro tipo de red neuronal que imita otro aspecto de la mente: la memoria de corto plazo.\n",
        "\n",
        "Normalmente, al hablar de memoria entendemos que se refiere a una idea que mantendremos a largo plazo y que es información que requeriremos para utilizar en puntos específicos. La realidad es que existe otro tipo de memoria que usamos un breve instante para ejecutar un acción.\n",
        "\n",
        "Un ejemplo es cuando recuerdas el número de turno para pasar a la caja de un banco: tendrás presente esta información, pero una vez que te atienden es normal que olvides qué número fue; es un dato que tuvo una función y, una vez cumplida, ya no es necesario retenerlo.\n",
        "\n",
        "En las redes neuronales sucede algo parecido, pero de manera más breve, sobre todo en datos secuenciales o en series temporales. Un ejemplo sencillo de datos secuenciales son los traductores de idiomas: dependiendo del orden y la intención de las palabras, el algortimo encontrará un sentido a lo que se intenta comunicar y generará los resultados de salida. Esto significa que el sentido de una palabra cambia dependiendo de las palabras que estaban antes, o dicho de otra forma, usan su memoria de palabras antes escritas para hacer su predicción.\n",
        "\n",
        "Otro ejemplo son los subtítulos automáticos que aparecen en YouTube o en los asistentes virtuales como Alexa de Amazon o Siri de Apple.\n",
        "\n",
        "Al igual que las redes neuronales que has visto, es necesario tener conjuntos de entrenamiento, sin embargo, lo que diferencia las RNN del CNN es que mientras en la CNN los datos de entradas y salidas son independientes, en la RNN la salida se verá condicionada por los elementos previamente establecidos.\n"
      ],
      "metadata": {
        "id": "wj2mH26KL-ir"
      }
    },
    {
      "cell_type": "markdown",
      "source": [
        "En general, vemos el comportamiento con una serie de datos, conocidos como series de tiempo. Este tipo de información la vemos usualmente en análisis que llevan un ciclo anual, semestral, trimestral u otro.\n",
        "\n",
        "El comportamiento de las series de tiempo, en muchas ocasiones, tiene una temporalidad muy marcada, esto es, que en ciertos periodos hay picos y valles.\n",
        "\n",
        "A pesar de lo anterior, no solo los datos con este tipo de comportamiento temporal son exclusivos para el uso de redes recurrentes, ya que se utilizan también para información que tiene un comportamiento más inusual, que puede presentar un cierto grado de incertidumbre o que para el ojo humano presenta un comportamiento fácilmente detectable.\n",
        "\n",
        "Comprenderás lo anterior con el ejemplo que vamos a llevar a cabo. En esta ocasión, trataremos de hacer una predicción del consumo de voltaje de una subestación eléctrica.\n",
        "\n",
        "La información puede ser descargada en el siguiente enlace: https://drive.google.com/file/d/14w-sGxt9twNMH6d7BwqKQAH8agMYgS_F/view?usp=share_link\n",
        "\n",
        "No olvides subir esta información en Google Drive para que puedas utilizarla."
      ],
      "metadata": {
        "id": "SO1fNSpPbg7T"
      }
    },
    {
      "cell_type": "markdown",
      "source": [
        "Lo primero que tienes que hacer es importar las paqueterías que te permiten manipular la información. (Recuerda que al iniciar cualquier análisis o modelado, debes tener lo anterior casi de manera automática)."
      ],
      "metadata": {
        "id": "AXOfi--nd2HK"
      }
    },
    {
      "cell_type": "code",
      "execution_count": null,
      "metadata": {
        "id": "LtKnkzwML7fB"
      },
      "outputs": [],
      "source": [
        "import numpy as np\n",
        "import pandas as pd\n",
        "import matplotlib.pyplot as plt\n",
        "import tensorflow as tf\n",
        "import matplotlib.pyplot as plt\n"
      ]
    },
    {
      "cell_type": "markdown",
      "source": [
        "El `read_csv` que harás es un poco distinto, ya que es una serie de tiempo y es necesario indicar a **Python** que lo que se ingresa no es solo texto, sino información que representa un día y hora específicos.\n",
        "\n",
        "Debido a esto, indicarás dos parámetros: el primero es `index_col`, el cual será igual a `'Datetime'`. El otro es `parse_dates`, que deberá estar indicado como `True`. Estos dos parámetros indican que hablamos de fecha."
      ],
      "metadata": {
        "id": "0CvQ7YemfT74"
      }
    },
    {
      "cell_type": "code",
      "source": [
        "from google.colab import drive\n",
        "drive.mount('/content/drive')"
      ],
      "metadata": {
        "colab": {
          "base_uri": "https://localhost:8080/"
        },
        "id": "96mmjQw011aG",
        "outputId": "f00653d2-1562-4621-ad54-e8588bc6ec71"
      },
      "execution_count": null,
      "outputs": [
        {
          "output_type": "stream",
          "name": "stdout",
          "text": [
            "Mounted at /content/drive\n"
          ]
        }
      ]
    },
    {
      "cell_type": "code",
      "source": [
        "df = pd.read_csv('/content/drive/MyDrive/Bootcamp Data Science/Copia de DOM_hourly.csv',\n",
        "                 index_col= 'Datetime',\n",
        "                 parse_dates= True)\n",
        "df.head()"
      ],
      "metadata": {
        "colab": {
          "base_uri": "https://localhost:8080/",
          "height": 237
        },
        "id": "KhGcyH9iRpQg",
        "outputId": "6ac7b569-203a-4177-e05a-3d7014dbea9b"
      },
      "execution_count": null,
      "outputs": [
        {
          "output_type": "execute_result",
          "data": {
            "text/plain": [
              "                     DOM_MW\n",
              "Datetime                   \n",
              "2005-12-31 01:00:00  9389.0\n",
              "2005-12-31 02:00:00  9070.0\n",
              "2005-12-31 03:00:00  9001.0\n",
              "2005-12-31 04:00:00  9042.0\n",
              "2005-12-31 05:00:00  9132.0"
            ],
            "text/html": [
              "\n",
              "  <div id=\"df-a956d805-33e1-4d67-91ad-5b1192ac6e9b\">\n",
              "    <div class=\"colab-df-container\">\n",
              "      <div>\n",
              "<style scoped>\n",
              "    .dataframe tbody tr th:only-of-type {\n",
              "        vertical-align: middle;\n",
              "    }\n",
              "\n",
              "    .dataframe tbody tr th {\n",
              "        vertical-align: top;\n",
              "    }\n",
              "\n",
              "    .dataframe thead th {\n",
              "        text-align: right;\n",
              "    }\n",
              "</style>\n",
              "<table border=\"1\" class=\"dataframe\">\n",
              "  <thead>\n",
              "    <tr style=\"text-align: right;\">\n",
              "      <th></th>\n",
              "      <th>DOM_MW</th>\n",
              "    </tr>\n",
              "    <tr>\n",
              "      <th>Datetime</th>\n",
              "      <th></th>\n",
              "    </tr>\n",
              "  </thead>\n",
              "  <tbody>\n",
              "    <tr>\n",
              "      <th>2005-12-31 01:00:00</th>\n",
              "      <td>9389.0</td>\n",
              "    </tr>\n",
              "    <tr>\n",
              "      <th>2005-12-31 02:00:00</th>\n",
              "      <td>9070.0</td>\n",
              "    </tr>\n",
              "    <tr>\n",
              "      <th>2005-12-31 03:00:00</th>\n",
              "      <td>9001.0</td>\n",
              "    </tr>\n",
              "    <tr>\n",
              "      <th>2005-12-31 04:00:00</th>\n",
              "      <td>9042.0</td>\n",
              "    </tr>\n",
              "    <tr>\n",
              "      <th>2005-12-31 05:00:00</th>\n",
              "      <td>9132.0</td>\n",
              "    </tr>\n",
              "  </tbody>\n",
              "</table>\n",
              "</div>\n",
              "      <button class=\"colab-df-convert\" onclick=\"convertToInteractive('df-a956d805-33e1-4d67-91ad-5b1192ac6e9b')\"\n",
              "              title=\"Convert this dataframe to an interactive table.\"\n",
              "              style=\"display:none;\">\n",
              "        \n",
              "  <svg xmlns=\"http://www.w3.org/2000/svg\" height=\"24px\"viewBox=\"0 0 24 24\"\n",
              "       width=\"24px\">\n",
              "    <path d=\"M0 0h24v24H0V0z\" fill=\"none\"/>\n",
              "    <path d=\"M18.56 5.44l.94 2.06.94-2.06 2.06-.94-2.06-.94-.94-2.06-.94 2.06-2.06.94zm-11 1L8.5 8.5l.94-2.06 2.06-.94-2.06-.94L8.5 2.5l-.94 2.06-2.06.94zm10 10l.94 2.06.94-2.06 2.06-.94-2.06-.94-.94-2.06-.94 2.06-2.06.94z\"/><path d=\"M17.41 7.96l-1.37-1.37c-.4-.4-.92-.59-1.43-.59-.52 0-1.04.2-1.43.59L10.3 9.45l-7.72 7.72c-.78.78-.78 2.05 0 2.83L4 21.41c.39.39.9.59 1.41.59.51 0 1.02-.2 1.41-.59l7.78-7.78 2.81-2.81c.8-.78.8-2.07 0-2.86zM5.41 20L4 18.59l7.72-7.72 1.47 1.35L5.41 20z\"/>\n",
              "  </svg>\n",
              "      </button>\n",
              "      \n",
              "  <style>\n",
              "    .colab-df-container {\n",
              "      display:flex;\n",
              "      flex-wrap:wrap;\n",
              "      gap: 12px;\n",
              "    }\n",
              "\n",
              "    .colab-df-convert {\n",
              "      background-color: #E8F0FE;\n",
              "      border: none;\n",
              "      border-radius: 50%;\n",
              "      cursor: pointer;\n",
              "      display: none;\n",
              "      fill: #1967D2;\n",
              "      height: 32px;\n",
              "      padding: 0 0 0 0;\n",
              "      width: 32px;\n",
              "    }\n",
              "\n",
              "    .colab-df-convert:hover {\n",
              "      background-color: #E2EBFA;\n",
              "      box-shadow: 0px 1px 2px rgba(60, 64, 67, 0.3), 0px 1px 3px 1px rgba(60, 64, 67, 0.15);\n",
              "      fill: #174EA6;\n",
              "    }\n",
              "\n",
              "    [theme=dark] .colab-df-convert {\n",
              "      background-color: #3B4455;\n",
              "      fill: #D2E3FC;\n",
              "    }\n",
              "\n",
              "    [theme=dark] .colab-df-convert:hover {\n",
              "      background-color: #434B5C;\n",
              "      box-shadow: 0px 1px 3px 1px rgba(0, 0, 0, 0.15);\n",
              "      filter: drop-shadow(0px 1px 2px rgba(0, 0, 0, 0.3));\n",
              "      fill: #FFFFFF;\n",
              "    }\n",
              "  </style>\n",
              "\n",
              "      <script>\n",
              "        const buttonEl =\n",
              "          document.querySelector('#df-a956d805-33e1-4d67-91ad-5b1192ac6e9b button.colab-df-convert');\n",
              "        buttonEl.style.display =\n",
              "          google.colab.kernel.accessAllowed ? 'block' : 'none';\n",
              "\n",
              "        async function convertToInteractive(key) {\n",
              "          const element = document.querySelector('#df-a956d805-33e1-4d67-91ad-5b1192ac6e9b');\n",
              "          const dataTable =\n",
              "            await google.colab.kernel.invokeFunction('convertToInteractive',\n",
              "                                                     [key], {});\n",
              "          if (!dataTable) return;\n",
              "\n",
              "          const docLinkHtml = 'Like what you see? Visit the ' +\n",
              "            '<a target=\"_blank\" href=https://colab.research.google.com/notebooks/data_table.ipynb>data table notebook</a>'\n",
              "            + ' to learn more about interactive tables.';\n",
              "          element.innerHTML = '';\n",
              "          dataTable['output_type'] = 'display_data';\n",
              "          await google.colab.output.renderOutput(dataTable, element);\n",
              "          const docLink = document.createElement('div');\n",
              "          docLink.innerHTML = docLinkHtml;\n",
              "          element.appendChild(docLink);\n",
              "        }\n",
              "      </script>\n",
              "    </div>\n",
              "  </div>\n",
              "  "
            ]
          },
          "metadata": {},
          "execution_count": 3
        }
      ]
    },
    {
      "cell_type": "markdown",
      "source": [
        "No olvides revisar cómo está el _data frame_ que has importado. Debido a que es recomendable analizar la información, en este caso lo harás con un gráfico. Para que este tenga mejor aspecto, indica un tamaño de imagen de `(15, 5)`."
      ],
      "metadata": {
        "id": "UfK-IumehuRs"
      }
    },
    {
      "cell_type": "code",
      "source": [
        "fig = plt.figure(figsize=(15, 5))\n",
        "plt.plot(df)\n",
        "plt.show()"
      ],
      "metadata": {
        "id": "rlsCSdY-SJJe",
        "colab": {
          "base_uri": "https://localhost:8080/",
          "height": 311
        },
        "outputId": "16304e00-bc4a-48b3-c704-cc9e6e0c8cfd"
      },
      "execution_count": null,
      "outputs": [
        {
          "output_type": "display_data",
          "data": {
            "text/plain": [
              "<Figure size 1080x360 with 1 Axes>"
            ],
            "image/png": "[encoded data removed]"
          },
          "metadata": {
            "needs_background": "light"
          }
        }
      ]
    },
    {
      "cell_type": "markdown",
      "source": [
        "Como seguro recuerdas, normalizar los datos ayuda muchísimo a la red neuronal para tener resultados más certeros.\n",
        "\n",
        "Ahora usa el `MinMaxScaler` de sklearn: este método coloca valores entre `0` y `1`, siendo `0` el valor mínimo y `1` el máximo, aunque, si lo deseas, puedes indicar que esa escala sea de otros números.\n",
        "\n",
        "Para poder replicar esta acción te recomendamos el uso de funciones."
      ],
      "metadata": {
        "id": "zD68x1g9lnDR"
      }
    },
    {
      "cell_type": "code",
      "source": [
        "df['DOM_MW'].values.reshape(-1, 1).shape"
      ],
      "metadata": {
        "colab": {
          "base_uri": "https://localhost:8080/"
        },
        "id": "GGL1y7MZv-AD",
        "outputId": "38b46af9-9921-46ca-e5da-2a7d9f46234e"
      },
      "execution_count": null,
      "outputs": [
        {
          "output_type": "execute_result",
          "data": {
            "text/plain": [
              "(116189, 1)"
            ]
          },
          "metadata": {},
          "execution_count": 5
        }
      ]
    },
    {
      "cell_type": "code",
      "source": [
        "import sklearn.preprocessing\n",
        "\n",
        "def normalize_data(df):\n",
        "    scaler = sklearn.preprocessing.MinMaxScaler()\n",
        "    df['DOM_MW']=scaler.fit_transform(df['DOM_MW'].values.reshape(-1, 1))\n",
        "    return df\n",
        "\n",
        "df_norm = normalize_data(df)\n",
        "df_norm.shape\n"
      ],
      "metadata": {
        "colab": {
          "base_uri": "https://localhost:8080/"
        },
        "id": "tnbTOn8MS5KP",
        "outputId": "dc2a1db8-cb95-4c7b-d9ad-28448f190fc1"
      },
      "execution_count": null,
      "outputs": [
        {
          "output_type": "execute_result",
          "data": {
            "text/plain": [
              "(116189, 1)"
            ]
          },
          "metadata": {},
          "execution_count": 6
        }
      ]
    },
    {
      "cell_type": "markdown",
      "source": [
        "Como verás, la función crea un objeto llamado `scaler`, que será igual al `MinMaxScaler` que acabas de descargar; después ajusta y transforma los datos con `fit_transform`.\n",
        "\n",
        "Con la función `.values` se piden los valores que están dentro del _dataframe_, sin embargo, el hacer esto nos dará un vector. En el ejemplo, su `.shape` sería `(116189,)`, pero es necesario que sea una matriz; para ello, usa la función `.reshape(-1,1)`, que lo transforma a `(116189,1)`. De esta forma, ahora sí se pude aplicar el `.fit_transform`."
      ],
      "metadata": {
        "id": "TurQuv5XvjdL"
      }
    },
    {
      "cell_type": "markdown",
      "source": [
        "Ejecuta la función que has creado:"
      ],
      "metadata": {
        "id": "bgz-Fyctx7ng"
      }
    },
    {
      "cell_type": "code",
      "source": [
        "normalize_data(df)"
      ],
      "metadata": {
        "colab": {
          "base_uri": "https://localhost:8080/",
          "height": 455
        },
        "id": "xeIyvFDux5uD",
        "outputId": "2023511b-0945-4d6c-d12d-7f0a061f964b"
      },
      "execution_count": null,
      "outputs": [
        {
          "output_type": "execute_result",
          "data": {
            "text/plain": [
              "                       DOM_MW\n",
              "Datetime                     \n",
              "2005-12-31 01:00:00  0.398863\n",
              "2005-12-31 02:00:00  0.383224\n",
              "2005-12-31 03:00:00  0.379841\n",
              "2005-12-31 04:00:00  0.381851\n",
              "2005-12-31 05:00:00  0.386263\n",
              "...                       ...\n",
              "2018-01-01 20:00:00  0.841504\n",
              "2018-01-01 21:00:00  0.848809\n",
              "2018-01-01 22:00:00  0.836062\n",
              "2018-01-01 23:00:00  0.811893\n",
              "2018-01-02 00:00:00  0.792970\n",
              "\n",
              "[116189 rows x 1 columns]"
            ],
            "text/html": [
              "\n",
              "  <div id=\"df-23150298-b819-40a1-bf5d-6727663441a2\">\n",
              "    <div class=\"colab-df-container\">\n",
              "      <div>\n",
              "<style scoped>\n",
              "    .dataframe tbody tr th:only-of-type {\n",
              "        vertical-align: middle;\n",
              "    }\n",
              "\n",
              "    .dataframe tbody tr th {\n",
              "        vertical-align: top;\n",
              "    }\n",
              "\n",
              "    .dataframe thead th {\n",
              "        text-align: right;\n",
              "    }\n",
              "</style>\n",
              "<table border=\"1\" class=\"dataframe\">\n",
              "  <thead>\n",
              "    <tr style=\"text-align: right;\">\n",
              "      <th></th>\n",
              "      <th>DOM_MW</th>\n",
              "    </tr>\n",
              "    <tr>\n",
              "      <th>Datetime</th>\n",
              "      <th></th>\n",
              "    </tr>\n",
              "  </thead>\n",
              "  <tbody>\n",
              "    <tr>\n",
              "      <th>2005-12-31 01:00:00</th>\n",
              "      <td>0.398863</td>\n",
              "    </tr>\n",
              "    <tr>\n",
              "      <th>2005-12-31 02:00:00</th>\n",
              "      <td>0.383224</td>\n",
              "    </tr>\n",
              "    <tr>\n",
              "      <th>2005-12-31 03:00:00</th>\n",
              "      <td>0.379841</td>\n",
              "    </tr>\n",
              "    <tr>\n",
              "      <th>2005-12-31 04:00:00</th>\n",
              "      <td>0.381851</td>\n",
              "    </tr>\n",
              "    <tr>\n",
              "      <th>2005-12-31 05:00:00</th>\n",
              "      <td>0.386263</td>\n",
              "    </tr>\n",
              "    <tr>\n",
              "      <th>...</th>\n",
              "      <td>...</td>\n",
              "    </tr>\n",
              "    <tr>\n",
              "      <th>2018-01-01 20:00:00</th>\n",
              "      <td>0.841504</td>\n",
              "    </tr>\n",
              "    <tr>\n",
              "      <th>2018-01-01 21:00:00</th>\n",
              "      <td>0.848809</td>\n",
              "    </tr>\n",
              "    <tr>\n",
              "      <th>2018-01-01 22:00:00</th>\n",
              "      <td>0.836062</td>\n",
              "    </tr>\n",
              "    <tr>\n",
              "      <th>2018-01-01 23:00:00</th>\n",
              "      <td>0.811893</td>\n",
              "    </tr>\n",
              "    <tr>\n",
              "      <th>2018-01-02 00:00:00</th>\n",
              "      <td>0.792970</td>\n",
              "    </tr>\n",
              "  </tbody>\n",
              "</table>\n",
              "<p>116189 rows × 1 columns</p>\n",
              "</div>\n",
              "      <button class=\"colab-df-convert\" onclick=\"convertToInteractive('df-23150298-b819-40a1-bf5d-6727663441a2')\"\n",
              "              title=\"Convert this dataframe to an interactive table.\"\n",
              "              style=\"display:none;\">\n",
              "        \n",
              "  <svg xmlns=\"http://www.w3.org/2000/svg\" height=\"24px\"viewBox=\"0 0 24 24\"\n",
              "       width=\"24px\">\n",
              "    <path d=\"M0 0h24v24H0V0z\" fill=\"none\"/>\n",
              "    <path d=\"M18.56 5.44l.94 2.06.94-2.06 2.06-.94-2.06-.94-.94-2.06-.94 2.06-2.06.94zm-11 1L8.5 8.5l.94-2.06 2.06-.94-2.06-.94L8.5 2.5l-.94 2.06-2.06.94zm10 10l.94 2.06.94-2.06 2.06-.94-2.06-.94-.94-2.06-.94 2.06-2.06.94z\"/><path d=\"M17.41 7.96l-1.37-1.37c-.4-.4-.92-.59-1.43-.59-.52 0-1.04.2-1.43.59L10.3 9.45l-7.72 7.72c-.78.78-.78 2.05 0 2.83L4 21.41c.39.39.9.59 1.41.59.51 0 1.02-.2 1.41-.59l7.78-7.78 2.81-2.81c.8-.78.8-2.07 0-2.86zM5.41 20L4 18.59l7.72-7.72 1.47 1.35L5.41 20z\"/>\n",
              "  </svg>\n",
              "      </button>\n",
              "      \n",
              "  <style>\n",
              "    .colab-df-container {\n",
              "      display:flex;\n",
              "      flex-wrap:wrap;\n",
              "      gap: 12px;\n",
              "    }\n",
              "\n",
              "    .colab-df-convert {\n",
              "      background-color: #E8F0FE;\n",
              "      border: none;\n",
              "      border-radius: 50%;\n",
              "      cursor: pointer;\n",
              "      display: none;\n",
              "      fill: #1967D2;\n",
              "      height: 32px;\n",
              "      padding: 0 0 0 0;\n",
              "      width: 32px;\n",
              "    }\n",
              "\n",
              "    .colab-df-convert:hover {\n",
              "      background-color: #E2EBFA;\n",
              "      box-shadow: 0px 1px 2px rgba(60, 64, 67, 0.3), 0px 1px 3px 1px rgba(60, 64, 67, 0.15);\n",
              "      fill: #174EA6;\n",
              "    }\n",
              "\n",
              "    [theme=dark] .colab-df-convert {\n",
              "      background-color: #3B4455;\n",
              "      fill: #D2E3FC;\n",
              "    }\n",
              "\n",
              "    [theme=dark] .colab-df-convert:hover {\n",
              "      background-color: #434B5C;\n",
              "      box-shadow: 0px 1px 3px 1px rgba(0, 0, 0, 0.15);\n",
              "      filter: drop-shadow(0px 1px 2px rgba(0, 0, 0, 0.3));\n",
              "      fill: #FFFFFF;\n",
              "    }\n",
              "  </style>\n",
              "\n",
              "      <script>\n",
              "        const buttonEl =\n",
              "          document.querySelector('#df-23150298-b819-40a1-bf5d-6727663441a2 button.colab-df-convert');\n",
              "        buttonEl.style.display =\n",
              "          google.colab.kernel.accessAllowed ? 'block' : 'none';\n",
              "\n",
              "        async function convertToInteractive(key) {\n",
              "          const element = document.querySelector('#df-23150298-b819-40a1-bf5d-6727663441a2');\n",
              "          const dataTable =\n",
              "            await google.colab.kernel.invokeFunction('convertToInteractive',\n",
              "                                                     [key], {});\n",
              "          if (!dataTable) return;\n",
              "\n",
              "          const docLinkHtml = 'Like what you see? Visit the ' +\n",
              "            '<a target=\"_blank\" href=https://colab.research.google.com/notebooks/data_table.ipynb>data table notebook</a>'\n",
              "            + ' to learn more about interactive tables.';\n",
              "          element.innerHTML = '';\n",
              "          dataTable['output_type'] = 'display_data';\n",
              "          await google.colab.output.renderOutput(dataTable, element);\n",
              "          const docLink = document.createElement('div');\n",
              "          docLink.innerHTML = docLinkHtml;\n",
              "          element.appendChild(docLink);\n",
              "        }\n",
              "      </script>\n",
              "    </div>\n",
              "  </div>\n",
              "  "
            ]
          },
          "metadata": {},
          "execution_count": 7
        }
      ]
    },
    {
      "cell_type": "markdown",
      "source": [
        "Ahora viene un concepto un poco difícil de entender, dado que se trata de una serie de tiempo y de las redes neuronales recurrentes.\n",
        "\n",
        "Como sabrás, en estos dos sistemas para saber «qué sucederá en el futuro» se debe «conocer su pasado», se debe comprender su tendencia, la frecuencia y la temporalidad. Usar una red neuronal que toma un solo valor no permitirá aprender esos detalles, entonces se debe aprenderlos en bloques.\n",
        "\n",
        "Supongamos que estás haciendo la estimación de compras dentro de un supermercado para un producto específico, y cuentas con los datos de 48 meses. La experiencia que tienes es que el comportamiento es anual, por lo tanto, para saber qué sucede en el mes 49, podrías pensar que debes indicarle a la neurona lo que sucedió 12 meses antes, es decir, desde del mes 37 al 48, para saber qué pasa en el 49. Eso quiere decir que para entrenar este modelo se realiza también en bloques de doce meses, esto es:\n",
        "\n",
        "- Para saber el mes 13º, las entradas a la red neuronal serán del 1º al 12º.\n",
        "- Para saber el mes 14º, las entradas a la red neuronal serán del 2º al 13º.\n",
        "- Para saber el mes 15º, las entradas a la red neuronal serán del 3º al 14º.\n",
        "\n",
        "Y así sucesivamente hasta cubrir todo el conjunto de entrenamiento.\n",
        "\n",
        "En este ejemplo hemos dicho que se tomaron doce datos, lo cual permitirá saber la frecuencia y temporalidad, pero no la tendencia. Puede ser que aunque existen ciertos comportamientos fijos, la realidad es que ese producto tiene una tendencia de compra al alza de año tras año, entonces, puedes imaginar que en lugar de tomar doce datos, mejor tomas veinticuatro o treinta y seis."
      ],
      "metadata": {
        "id": "i7daUTSZxddZ"
      }
    },
    {
      "cell_type": "markdown",
      "source": [
        "Regresando a nuestro ejemplo:\n",
        "\n",
        "La manera más rápida y sencilla de hacer lo anterior es usando las funciones, por lo que te recomendamos fortalecer este tema de **Python**. Esta función se encargará de dos cosas:\n",
        "\n",
        "1. Hacer los bloques que se estarán ingresando en la red neuronal, los cuales se harán con dos listas: `X_train`, que contendra los $n$ valores previos al dato que queremos conocer, y `y_train`, que es el valor al que se quiere llegar con todos los $X$.\n",
        "\n",
        "2. Dividir los datos en conjuntos de entrenamiento y de _testing_.\n",
        "\n",
        "Pon atención a los comentarios que se indican en los numerales (`#`):"
      ],
      "metadata": {
        "id": "NJJ2UcHb15So"
      }
    },
    {
      "cell_type": "code",
      "source": [
        "def carga_de_datos(datos, tamano_bloque): #Esta función pedirá los datos y el tamaño de cada bloque.\n",
        "    X_train = [] #Es necesario hacer una lista vacía, ya que hará más facil agregar datos con .append.\n",
        "    y_train = [] #Exactamente lo mismo que la línea anterior.\n",
        "    for i in range(tamano_bloque, len(datos)): #Se hará un bucle que repetirá la longitud de datos menos el tamaño del bloque.\n",
        "        X_train.append(datos.iloc[i-tamano_bloque : i, 0]) #La cantidad de feature dependerá del tamaño de bloque.\n",
        "        y_train.append(datos.iloc[i, 0]) #Este solo deberá tener un feature.\n",
        "    \n",
        "    #El tamaño del conjunto es de 116189; toma los últimos 6189 para evaluarla, o sea, del valor 110000 hasta el final.\n",
        "    X_test = X_train[110000:]             \n",
        "    y_test = y_train[110000:]\n",
        "    \n",
        "    #El conjunto de entrenamiento serán los primeros 110000, por eso lo indicamos como 110000.\n",
        "    X_train = X_train[:110000]           \n",
        "    y_train = y_train[:110000]\n",
        "    \n",
        "    #Los datos creados son datos, pero las redes neuronales necesitan conjuntos, por ello usa np.array().\n",
        "    X_train = np.array(X_train)\n",
        "    y_train = np.array(y_train)\n",
        "    X_test = np.array(X_test)\n",
        "    y_test = np.array(y_test)\n",
        "    \n",
        "    #Las RNN trabajan con tensores, esto es una matriz de tres dimensiones. Para ello usa np.reshape\n",
        "    X_train = np.reshape(X_train, (110000, tamano_bloque, 1))\n",
        "    \n",
        "    X_test = np.reshape(X_test, (X_test.shape[0], tamano_bloque, 1))\n",
        "    \n",
        "    #Indica return, ya que deseas tomar los valores para usarlos después.\n",
        "    return [X_train, y_train, X_test, y_test]\n"
      ],
      "metadata": {
        "id": "UpQbjlYhU2EU"
      },
      "execution_count": null,
      "outputs": []
    },
    {
      "cell_type": "markdown",
      "source": [
        "Explicaremos qué es el _reshape_ al final de la función que has creado.\n",
        "\n",
        "Mientras tanto repasaremos qué es un valor escalar, un vector, una matriz y un tensor.\n",
        "\n",
        "- Un **escalar** es una cantidad sin dimensión; lo vemos a diario en la temperatura, es decir, es un número que representa un valor, pero que carece de magnitud y dirección. Si lo graficamos, lo veríamos como un punto en una recta.\n",
        "\n",
        "- Un **vector** es un valor con una dimensión, y puede ser un conjunto de datos. Se suele representar como una línea dentro de una recta.\n",
        "\n",
        "En **Python** se llaman **_array_**. Son similares a esto:\n",
        "```python\n",
        "array([1, 2, 3, 4, 5])\n",
        "```\n",
        "En caso de un `.shape`, observarás algo similar a:\n",
        "```python\n",
        "(5,)\n",
        "```\n",
        "\n",
        "- Una **matriz** es un conjunto de datos bidireccional. Has visto esto mil veces en tablas, en Excel o en imágenes 2D.\n",
        "\n",
        "En un diagrama es un cuadro que corre por un diagrama de dos dimensiones.\n",
        "\n",
        "En **Python** lo vemos como **_dataframe_** o como un **_array_** con más corchetes que cumplen una serie de condiciones con respecto a su forma y tamaño:\n",
        "```python\n",
        "array([[ 1,  2,  3,  4,  5],\n",
        "       [ 6,  7,  8,  9, 10]])\n",
        "```\n",
        "\n",
        "Al aplicar `.shape` verás esto:\n",
        "```python\n",
        "(5, 2)\n",
        "```\n",
        "\n",
        "> **NOTA**: Al aplicar `.shape` a un objeto, no es lo mismo `(10,1)` que `(10,)`; el primero es una matriz con un _feature_, mientras que el otro es un vector. Muchas funciones de **Pandas**, **Numpy**, **Sklearn**, **Pyplot** y **Keras** requieren distinguir estas diferencias.\n",
        "\n",
        "- Un **tensor** es un conjunto de datos con tres o más direcciones, es parecido a una matriz, pero con datos en profundidad.\n",
        "\n",
        "Para indicarlo en un diagrama se requiere que sea en tres o más direcciones, por lo tanto, dadas las limitaciones que tenemos para ver en más de tres, solemos verlo en muchas tablas con la misma composición. Un buen ejemplo cotidiano son las imágenes que viste la semana anterior al revisar redes neuronales convolucionales.\n",
        "\n",
        "En **Python** es más díficil representarlos, pero lucen similar a esto:\n",
        "```python\n",
        "array([[[ 1,  2,  3,  4,  5],\n",
        "        [ 6,  7,  8,  9, 10]],\n",
        "\n",
        "       [[11, 12, 13, 14, 15],\n",
        "        [16, 17, 18, 19, 20]]])\n",
        "```\n",
        "Si usas `shape`, verás:\n",
        "```python\n",
        "(2, 2, 5)\n",
        "```\n"
      ],
      "metadata": {
        "id": "qb1jRxkW7nPF"
      }
    },
    {
      "cell_type": "markdown",
      "source": [
        "Ahora, ¿para qué es todo esto?\n",
        "\n",
        "Las redes neuronales recurrentes necesitan entrada de **tensores**, por ello se usa `np.reshape()`, que te permite hacer estas modificaciones siempre y cuando no haya interferencia en la cantidad de datos a transformar.\n",
        "\n",
        "Tomemos prestada la línea de código que contiene esta función y expliquémosla:\n",
        "```python\n",
        "np.reshape(X_train, (110000, tamano_bloque, 1))\n",
        "```\n",
        "- El primer argumento es el conjunto que se transformará.\n",
        "- El segundo conjunto va en un paréntesis e indica cada una de las dimensiones.\n",
        "  - La primera es la cantidad de conjuntos que se van a entrenar/testear.\n",
        "  - La segunda es la cantidad de features; en este caso, corresponde al tamaño del bloque.\n",
        "  - La tercera no es más que para mantener el conjunto como tensor, similar a lo explicado arriba, ya que no es lo mismo un `.shape` de `(5,)` que de `(5, 1)`. "
      ],
      "metadata": {
        "id": "2ePdwWU5B17h"
      }
    },
    {
      "cell_type": "markdown",
      "source": [
        "Ya está lista la función que permitirá crear conjuntos de entrenamiento y de _testing_, así como separar $X$ de $y$. Ahora es momento de aplicarlo y de paso revisar su `.shape` para ver que sean tensores. \n",
        "\n",
        "En el ejemplo que sigue se usará un tamaño de bloque de 20 piezas.\n",
        "\n",
        "Esta función tardará un momento, pues son miles de datos los que está ajustando."
      ],
      "metadata": {
        "id": "o65Dqo9dEr68"
      }
    },
    {
      "cell_type": "code",
      "source": [
        "tamano_bloque = 20\n",
        "\n",
        "X_train, y_train, X_test, y_test = carga_de_datos(df, tamano_bloque)\n",
        "\n",
        "print('X_train.shape = ', X_train.shape)\n",
        "print('y_train.shape = ', y_train.shape)\n",
        "print('X_test.shape = ', X_test.shape)\n",
        "print('y_test.shape = ', y_test.shape)"
      ],
      "metadata": {
        "colab": {
          "base_uri": "https://localhost:8080/"
        },
        "id": "6upqD8AeEq_K",
        "outputId": "c962bd76-bf5e-4711-b665-0021c31ee9b5"
      },
      "execution_count": null,
      "outputs": [
        {
          "output_type": "stream",
          "name": "stdout",
          "text": [
            "X_train.shape =  (110000, 20, 1)\n",
            "y_train.shape =  (110000,)\n",
            "X_test.shape =  (6169, 20, 1)\n",
            "y_test.shape =  (6169,)\n"
          ]
        }
      ]
    },
    {
      "cell_type": "markdown",
      "source": [
        "Los conjuntos de $X$ son tensores (de tres dimensiones), mientras que los conjuntos de $y$ son vectores (de una dimensión). Mira estos ejemplos para ver qué sucedio:"
      ],
      "metadata": {
        "id": "rbiuCVhQFfqo"
      }
    },
    {
      "cell_type": "code",
      "source": [
        "X_train[19]"
      ],
      "metadata": {
        "colab": {
          "base_uri": "https://localhost:8080/"
        },
        "id": "KNITA0pDQxjF",
        "outputId": "23290675-6804-4206-da41-b5d957189af5"
      },
      "execution_count": null,
      "outputs": [
        {
          "output_type": "execute_result",
          "data": {
            "text/plain": [
              "array([[0.47519365],\n",
              "       [0.46450632],\n",
              "       [0.44656339],\n",
              "       [0.42837533],\n",
              "       [0.41160898],\n",
              "       [0.38204726],\n",
              "       [0.37033042],\n",
              "       [0.3720953 ],\n",
              "       [0.37758604],\n",
              "       [0.39445044],\n",
              "       [0.42685557],\n",
              "       [0.47328169],\n",
              "       [0.50284342],\n",
              "       [0.50872635],\n",
              "       [0.49499951],\n",
              "       [0.47504657],\n",
              "       [0.45725071],\n",
              "       [0.43920973],\n",
              "       [0.42464948],\n",
              "       [0.41209923]])"
            ]
          },
          "metadata": {},
          "execution_count": 11
        }
      ]
    },
    {
      "cell_type": "code",
      "source": [
        "y_train[19]"
      ],
      "metadata": {
        "colab": {
          "base_uri": "https://localhost:8080/"
        },
        "id": "XD2q8D1zRRXt",
        "outputId": "f19781cc-1a6e-4583-ea33-ddd4a516e6c3"
      },
      "execution_count": null,
      "outputs": [
        {
          "output_type": "execute_result",
          "data": {
            "text/plain": [
              "0.40837336993822915"
            ]
          },
          "metadata": {},
          "execution_count": 12
        }
      ]
    },
    {
      "cell_type": "markdown",
      "source": [
        "Como verás, un valor conjunto de `X_train` está constituido de los veinte valores previos a él. Esto se indica en `tamano_bloque = 20`. Si quisieras usar un tamaño de bloque distinto, verás que cambiará este dato en proporción; en el caso de `y_train`, solo será un valor."
      ],
      "metadata": {
        "id": "ljnHQwijQ3nJ"
      }
    },
    {
      "cell_type": "markdown",
      "source": [
        "Elaboremos entonces nuestra red neuronal. Como es costumbre, importaremos **Keras** y algunas instrucciones más.\n",
        "\n",
        "El primer paso es usar `Sequential()`, que nos permitirá apilar las redes neuronales.\n",
        "\n",
        "Añadiremos después una capa de `SimpleRNN`; aquí unos detalles muy importantes:\n",
        "- El primer argumento a incluir son las unidades, o sea, la cantidad de redes neuronales. Se recomienda que sea un número alto, pero recuerda hacerlo con moderación, ya que un número muy elevado se traducirá en un mayor uso de los recursos de la memoria de la computadora.\n",
        "- El segundo argumento es `activation`; por lo general, en RNN se usa la tangente hiperbólica, es decir, `'tanh'`.\n",
        "- El tercer argumento es `return_sequences`, que indica si la neurona usará esa capacidad de memoría a corto plazo. Si esta capa recurrente **no es la última**, el valor deberá ser `True`; solo aplica `False` en la última capa recurrente. Ten especial atención en este argumento, ya que su valor por defecto es `False`; si tú no indicas lo contrario, puede generar errores.\n",
        "- El último argumento es el `input_shape`. Este **solo aplica a la primera capa** y debe indicarse cuántos elementos recibirá. Es necesario que este valor lo coloques entre paréntesis, y como verás se ha puesto `,1)` al final, ya que requiere que sea una matriz y no un vector.\n",
        "\n",
        "Una vez colocada la capa recurrente colocaremos una de `Dropout` para evitar el _overfitting_.\n",
        "\n",
        "Ahora pondremos varias capas similares para hacerlo más complejo. En el ejemplo serán cuatro conjuntos similares para finalizar una capa densa, conocida como `Dense`, que nos ayuda a emitir la salida de la red neuronal. Aquí indicamos que solo queremos un valor.\n",
        "\n"
      ],
      "metadata": {
        "id": "L-sNVSeHGWhH"
      }
    },
    {
      "cell_type": "code",
      "source": [
        "from keras.layers import Dense, Dropout, SimpleRNN, LSTM\n",
        "from keras.models import Sequential\n",
        "\n",
        "model = Sequential()\n",
        "\n",
        "model.add(SimpleRNN(40,activation='tanh', return_sequences=True, input_shape=(X_train.shape[1],1)))\n",
        "model.add(Dropout(0.20))\n",
        "\n",
        "model.add(SimpleRNN(40,activation='tanh', return_sequences=True))\n",
        "model.add(Dropout(0.20))\n",
        "\n",
        "model.add(SimpleRNN(40,activation='tanh', return_sequences=True))\n",
        "model.add(Dropout(0.20))\n",
        "\n",
        "model.add(SimpleRNN(40,activation='tanh', return_sequences=False))\n",
        "model.add(Dropout(0.20))\n",
        "\n",
        "model.add(Dense(1))\n",
        "\n",
        "model.summary()"
      ],
      "metadata": {
        "id": "vU56uv7VVIB3",
        "colab": {
          "base_uri": "https://localhost:8080/"
        },
        "outputId": "84b32283-f6b1-4e74-824d-00f9a1333d21"
      },
      "execution_count": null,
      "outputs": [
        {
          "output_type": "stream",
          "name": "stdout",
          "text": [
            "Model: \"sequential\"\n",
            "_________________________________________________________________\n",
            " Layer (type)                Output Shape              Param #   \n",
            "=================================================================\n",
            " simple_rnn (SimpleRNN)      (None, 20, 40)            1680      \n",
            "                                                                 \n",
            " dropout (Dropout)           (None, 20, 40)            0         \n",
            "                                                                 \n",
            " simple_rnn_1 (SimpleRNN)    (None, 20, 40)            3240      \n",
            "                                                                 \n",
            " dropout_1 (Dropout)         (None, 20, 40)            0         \n",
            "                                                                 \n",
            " simple_rnn_2 (SimpleRNN)    (None, 20, 40)            3240      \n",
            "                                                                 \n",
            " dropout_2 (Dropout)         (None, 20, 40)            0         \n",
            "                                                                 \n",
            " simple_rnn_3 (SimpleRNN)    (None, 40)                3240      \n",
            "                                                                 \n",
            " dropout_3 (Dropout)         (None, 40)                0         \n",
            "                                                                 \n",
            " dense (Dense)               (None, 1)                 41        \n",
            "                                                                 \n",
            "=================================================================\n",
            "Total params: 11,441\n",
            "Trainable params: 11,441\n",
            "Non-trainable params: 0\n",
            "_________________________________________________________________\n"
          ]
        }
      ]
    },
    {
      "cell_type": "markdown",
      "source": [
        "Te recomendamos mucho usar `.summary()` para ver que cómo ha quedado tu red."
      ],
      "metadata": {
        "id": "A-06BJT8JnUy"
      }
    },
    {
      "cell_type": "markdown",
      "source": [
        "Ahora debemos compilar nuestra red indicando un optimizador `'adam'`y en la función de perida pediremos el **M**ean **S**quared **E**rror; si se te hace familiar, es porque se vio en el tema de regresión. Si lo has notado, este es un problema de regresión, no es ni _clustering_, ni clasificación.\n",
        "\n",
        "Y no olvidemos entrenar nuestra red neuronal. Como sabrás, puedes jugar con esos valores. Nosotros indicaremos 20 épocas y un _batch size_ de mil. \n",
        "\n",
        "Recuerda tener cuidado con las cantidades que indiques para no sobrecargar la memoria."
      ],
      "metadata": {
        "id": "cJ1wJLHTJ5Z3"
      }
    },
    {
      "cell_type": "code",
      "source": [
        "model.compile(optimizer=\"adam\",loss=\"MSE\")\n",
        "model.fit(X_train, y_train, epochs=20, batch_size=1000)"
      ],
      "metadata": {
        "id": "efsIqCEEVKVb",
        "colab": {
          "base_uri": "https://localhost:8080/"
        },
        "outputId": "c33a1d40-8d75-420b-f7af-512050a3f4fc"
      },
      "execution_count": null,
      "outputs": [
        {
          "output_type": "stream",
          "name": "stdout",
          "text": [
            "Epoch 1/20\n",
            "110/110 [==============================] - 10s 48ms/step - loss: 0.1393\n",
            "Epoch 2/20\n",
            "110/110 [==============================] - 5s 49ms/step - loss: 0.0292\n",
            "Epoch 3/20\n",
            "110/110 [==============================] - 5s 49ms/step - loss: 0.0146\n",
            "Epoch 4/20\n",
            "110/110 [==============================] - 5s 49ms/step - loss: 0.0091\n",
            "Epoch 5/20\n",
            "110/110 [==============================] - 5s 49ms/step - loss: 0.0064\n",
            "Epoch 6/20\n",
            "110/110 [==============================] - 7s 61ms/step - loss: 0.0048\n",
            "Epoch 7/20\n",
            "110/110 [==============================] - 6s 51ms/step - loss: 0.0039\n",
            "Epoch 8/20\n",
            "110/110 [==============================] - 5s 48ms/step - loss: 0.0032\n",
            "Epoch 9/20\n",
            "110/110 [==============================] - 5s 49ms/step - loss: 0.0028\n",
            "Epoch 10/20\n",
            "110/110 [==============================] - 5s 48ms/step - loss: 0.0024\n",
            "Epoch 11/20\n",
            "110/110 [==============================] - 5s 50ms/step - loss: 0.0022\n",
            "Epoch 12/20\n",
            "110/110 [==============================] - 5s 49ms/step - loss: 0.0019\n",
            "Epoch 13/20\n",
            "110/110 [==============================] - 7s 62ms/step - loss: 0.0017\n",
            "Epoch 14/20\n",
            "110/110 [==============================] - 5s 49ms/step - loss: 0.0015\n",
            "Epoch 15/20\n",
            "110/110 [==============================] - 7s 64ms/step - loss: 0.0014\n",
            "Epoch 16/20\n",
            "110/110 [==============================] - 5s 50ms/step - loss: 0.0013\n",
            "Epoch 17/20\n",
            "110/110 [==============================] - 5s 49ms/step - loss: 0.0012\n",
            "Epoch 18/20\n",
            "110/110 [==============================] - 5s 49ms/step - loss: 0.0011\n",
            "Epoch 19/20\n",
            "110/110 [==============================] - 7s 64ms/step - loss: 0.0010\n",
            "Epoch 20/20\n",
            "110/110 [==============================] - 5s 49ms/step - loss: 9.5123e-04\n"
          ]
        },
        {
          "output_type": "execute_result",
          "data": {
            "text/plain": [
              "<keras.callbacks.History at 0x7f1a0af8fbd0>"
            ]
          },
          "metadata": {},
          "execution_count": 14
        }
      ]
    },
    {
      "cell_type": "markdown",
      "source": [
        "Por último, hagamos la predicción del conjunto de _testing_ y midamos con una métrica como $R^2$ y $RMSE $ qué tan certero es:"
      ],
      "metadata": {
        "id": "4zMdGqW4My4E"
      }
    },
    {
      "cell_type": "code",
      "source": [
        "from sklearn.metrics import r2_score, mean_squared_error\n",
        "\n",
        "predicciones = model.predict(X_test)\n",
        "\n",
        "score_r2 = r2_score(y_test, predicciones)\n",
        "score_rmse = np.sqrt(mean_squared_error(y_test, predicciones))\n",
        "print(\"R2 Score: \",score_r2)\n",
        "print(\"RMSE Score: \",score_rmse)"
      ],
      "metadata": {
        "id": "pv4fc_8hVNsL",
        "colab": {
          "base_uri": "https://localhost:8080/"
        },
        "outputId": "93cfbb35-4a4e-4ea6-dab5-5ab89cfb10b5"
      },
      "execution_count": null,
      "outputs": [
        {
          "output_type": "stream",
          "name": "stdout",
          "text": [
            "193/193 [==============================] - 2s 8ms/step\n",
            "R2 Score:  0.9612320554627518\n",
            "RMSE Score:  0.024236344203556397\n"
          ]
        }
      ]
    },
    {
      "cell_type": "markdown",
      "source": [
        "### Ponte a prueba\n",
        "- Grafica las predicciones de esta red neuronal y compáralas con el conjunto de _testing_.\n",
        "- Vuelve a entrenar el modelo pero con una cantidad de capas distintas, de _dropout_, de épocas, _batch size_ e incluso el tamaño del bloque. Juega con los números y observa la eficiencia que obtienes.\n",
        "- Si te sientes con un plus mayor, haz una red neuronal, pero en lugar de usar `SimpleRNN`, usa `LSTM`: una capa recurrente más avanzada. No te preocupes demasiado, usa los mismos argumentos que `SimpleRNN`, pero ten cuidado con `return_sequences` y con el `input_shape`."
      ],
      "metadata": {
        "id": "upgJ7FTeOKu-"
      }
    },
    {
      "cell_type": "markdown",
      "source": [
        "## Mis próximos pasos\n",
        "Recuerda practicar de manera constante todo lo que has aprendido en este camino de aprendizaje. Anota todas las dudas que surjan y compártelas con tu *coach* el día de la clase. \n",
        "\n",
        "Esfuérzate mucho por tener una entrega sobresaliente de tu proyecto. ¡Vas por un excelente camino!"
      ],
      "metadata": {
        "id": "OR9jdzSEnMMD"
      }
    }
  ]
}